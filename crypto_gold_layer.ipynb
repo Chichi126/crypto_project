{
 "cells": [
  {
   "cell_type": "code",
   "execution_count": 0,
   "metadata": {
    "application/vnd.databricks.v1+cell": {
     "cellMetadata": {
      "byteLimit": 2048000,
      "rowLimit": 10000
     },
     "inputWidgets": {},
     "nuid": "74a01cbb-5946-4f8e-901c-e53f5a5a2d9e",
     "showTitle": false,
     "tableResultSettingsMap": {},
     "title": ""
    }
   },
   "outputs": [],
   "source": [
    "silver_path=\"abfss://silver@cryptostorage2025.dfs.core.windows.net/slver_crypto\"\n",
    "goldpath = \"abfss://gold@cryptostorage2025.dfs.core.windows.net/\""
   ]
  },
  {
   "cell_type": "markdown",
   "metadata": {
    "application/vnd.databricks.v1+cell": {
     "cellMetadata": {},
     "inputWidgets": {},
     "nuid": "b854efb1-3ae1-4272-ae04-06143d78bada",
     "showTitle": false,
     "tableResultSettingsMap": {},
     "title": ""
    }
   },
   "source": [
    "## Creating Catalog, Schema, Tables"
   ]
  },
  {
   "cell_type": "code",
   "execution_count": 0,
   "metadata": {
    "application/vnd.databricks.v1+cell": {
     "cellMetadata": {
      "byteLimit": 2048000,
      "implicitDf": true,
      "rowLimit": 10000
     },
     "inputWidgets": {},
     "nuid": "a32ee366-77ba-46d8-a2ad-0550354c2c3d",
     "showTitle": false,
     "tableResultSettingsMap": {},
     "title": ""
    }
   },
   "outputs": [],
   "source": [
    "%sql\n",
    "CREATE CATALOG IF NOT EXISTS ctl_crypto;"
   ]
  },
  {
   "cell_type": "code",
   "execution_count": 0,
   "metadata": {
    "application/vnd.databricks.v1+cell": {
     "cellMetadata": {
      "byteLimit": 2048000,
      "implicitDf": true,
      "rowLimit": 10000
     },
     "inputWidgets": {},
     "nuid": "c1870554-0926-422b-8470-ff9fa76bd3af",
     "showTitle": false,
     "tableResultSettingsMap": {},
     "title": ""
    }
   },
   "outputs": [],
   "source": [
    "%sql\n",
    "CREATE SCHEMA IF NOT EXISTS ctl_crypto.staging_schema;"
   ]
  },
  {
   "cell_type": "code",
   "execution_count": 0,
   "metadata": {
    "application/vnd.databricks.v1+cell": {
     "cellMetadata": {
      "byteLimit": 2048000,
      "implicitDf": true,
      "rowLimit": 10000
     },
     "inputWidgets": {},
     "nuid": "80d7352e-7440-4849-90eb-4d77ec2ebb32",
     "showTitle": false,
     "tableResultSettingsMap": {},
     "title": ""
    }
   },
   "outputs": [],
   "source": [
    "%sql\n",
    "CREATE TABLE IF NOT EXISTS ctl_crypto.staging_schema.raw_silver\n",
    "USING DELTA\n",
    "LOCATION \"abfss://silver@cryptostorage2025.dfs.core.windows.net/slver_crypto\""
   ]
  },
  {
   "cell_type": "code",
   "execution_count": 0,
   "metadata": {
    "application/vnd.databricks.v1+cell": {
     "cellMetadata": {
      "byteLimit": 2048000,
      "implicitDf": true,
      "rowLimit": 10000
     },
     "inputWidgets": {},
     "nuid": "5c641ae5-8330-4a5b-acf4-6689fb29d12e",
     "showTitle": false,
     "tableResultSettingsMap": {},
     "title": ""
    }
   },
   "outputs": [],
   "source": [
    "%sql\n",
    "SELECT * FROM ctl_crypto.staging_schema.raw_silver\n",
    "LIMIT 10;"
   ]
  },
  {
   "cell_type": "code",
   "execution_count": 0,
   "metadata": {
    "application/vnd.databricks.v1+cell": {
     "cellMetadata": {
      "byteLimit": 2048000,
      "implicitDf": true,
      "rowLimit": 10000
     },
     "inputWidgets": {},
     "nuid": "7a2312b4-ff0f-4fd9-b38d-5024cb5a4530",
     "showTitle": false,
     "tableResultSettingsMap": {},
     "title": ""
    }
   },
   "outputs": [],
   "source": [
    "%sql\n",
    "SELECT COUNT(*) FROM ctl_crypto.staging_schema.raw_silver;"
   ]
  },
  {
   "cell_type": "code",
   "execution_count": 0,
   "metadata": {
    "application/vnd.databricks.v1+cell": {
     "cellMetadata": {
      "byteLimit": 2048000,
      "implicitDf": true,
      "rowLimit": 10000
     },
     "inputWidgets": {},
     "nuid": "9c5826df-d1a1-4fc8-b33d-6fce8e6afd23",
     "showTitle": false,
     "tableResultSettingsMap": {},
     "title": ""
    }
   },
   "outputs": [],
   "source": [
    "%sql\n",
    "CREATE SCHEMA IF NOT EXISTS ctl_crypto.gold_schema;"
   ]
  },
  {
   "cell_type": "code",
   "execution_count": 0,
   "metadata": {
    "application/vnd.databricks.v1+cell": {
     "cellMetadata": {
      "byteLimit": 2048000,
      "implicitDf": true,
      "rowLimit": 10000
     },
     "inputWidgets": {},
     "nuid": "cbfb4115-abcc-481a-ae3c-7e448ee90428",
     "showTitle": false,
     "tableResultSettingsMap": {},
     "title": ""
    }
   },
   "outputs": [],
   "source": [
    "%sql\n",
    "CREATE TABLE IF NOT EXISTS ctl_crypto.gold_schema.dim_roi\n",
    "(\n",
    "  dim_roi_id BIGINT GENERATED ALWAYS AS IDENTITY PRIMARY KEY,\n",
    "  id STRING NOT NULL,\n",
    "  roi_time DOUBLE,\n",
    "  roi_percentage DOUBLE,\n",
    "  roi_currency STRING,\n",
    "  last_updated_ts TIMESTAMP\n",
    ")\n",
    "USING DELTA\n",
    "LOCATION \"abfss://gold@cryptostorage2025.dfs.core.windows.net/dim_roi\"\n"
   ]
  },
  {
   "cell_type": "code",
   "execution_count": 0,
   "metadata": {
    "application/vnd.databricks.v1+cell": {
     "cellMetadata": {
      "byteLimit": 2048000,
      "implicitDf": true,
      "rowLimit": 10000
     },
     "inputWidgets": {},
     "nuid": "f2e08daa-3fd4-4253-844d-9b4da5cb74f0",
     "showTitle": false,
     "tableResultSettingsMap": {},
     "title": ""
    }
   },
   "outputs": [],
   "source": [
    "%sql\n",
    "CREATE TABLE IF NOT EXISTS ctl_crypto.gold_schema.dim_crypto\n",
    "(\n",
    "  dim_crypto_id BIGINT GENERATED ALWAYS AS IDENTITY PRIMARY KEY,\n",
    "  id STRING NOT NULL,\n",
    "  name STRING,\n",
    "  symbol STRING,\n",
    "  ath DOUBLE,\n",
    "  ath_change_percentage DOUBLE,\n",
    "  market_cap_billions DOUBLE,\n",
    "  volume_to_market_cap_ratio DOUBLE,\n",
    "  last_updated_ts TIMESTAMP\n",
    ")\n",
    "USING DELTA\n",
    "LOCATION \"abfss://gold@cryptostorage2025.dfs.core.windows.net/dim_crypto\""
   ]
  },
  {
   "cell_type": "code",
   "execution_count": 0,
   "metadata": {
    "application/vnd.databricks.v1+cell": {
     "cellMetadata": {
      "byteLimit": 2048000,
      "implicitDf": true,
      "rowLimit": 10000
     },
     "inputWidgets": {},
     "nuid": "5ca39494-133f-4ef8-8418-c6459d772de8",
     "showTitle": false,
     "tableResultSettingsMap": {},
     "title": ""
    }
   },
   "outputs": [],
   "source": [
    "%sql\n",
    "CREATE TABLE IF NOT EXISTS ctl_crypto.gold_schema.crypto_fact\n",
    "(\n",
    "  id STRING NOT NULL,\n",
    "  market_cap_rank BIGINT,\n",
    "  max_supply DOUBLE,\n",
    "  total_supply DOUBLE,\n",
    "  circulating_supply DOUBLE,\n",
    "  total_volume DOUBLE,\n",
    "  market_cap DOUBLE,\n",
    "  market_cap_change_24h DOUBLE,  -- Added missing data type\n",
    "  market_cap_change_percentage_24h DOUBLE,\n",
    "  price_change_24h DOUBLE,\n",
    "  price_change_percentage_24h DOUBLE,\n",
    "  fully_diluted_valuation DOUBLE,\n",
    "  market_cap_billions DOUBLE,\n",
    "  total_volume_double DOUBLE,\n",
    "  high_24h DOUBLE,\n",
    "  low_24h DOUBLE,\n",
    "  current_price DOUBLE,\n",
    "  date_partition DATE,  -- Added missing comma\n",
    "  last_updated_ts TIMESTAMP\n",
    ")\n",
    "USING DELTA\n",
    "LOCATION \"abfss://gold@cryptostorage2025.dfs.core.windows.net/crypto_fact\";\n"
   ]
  },
  {
   "cell_type": "code",
   "execution_count": 0,
   "metadata": {
    "application/vnd.databricks.v1+cell": {
     "cellMetadata": {
      "byteLimit": 2048000,
      "implicitDf": true,
      "rowLimit": 10000
     },
     "inputWidgets": {},
     "nuid": "33764fa8-0849-4a92-b5a7-76e8da0d5f1d",
     "showTitle": false,
     "tableResultSettingsMap": {},
     "title": ""
    }
   },
   "outputs": [],
   "source": [
    "%sql\n",
    "MERGE INTO ctl_crypto.gold_schema.dim_roi AS target\n",
    "USING (\n",
    "  SELECT\n",
    "    id,\n",
    "    roi_time,\n",
    "    roi_percentage,\n",
    "    roi_currency,\n",
    "    last_updated_ts,\n",
    "    ROW_NUMBER() OVER (PARTITION BY id ORDER BY last_updated_ts DESC) AS rn\n",
    "  FROM (\n",
    "    SELECT *, \n",
    "    ROW_NUMBER() OVER (PARTITION BY id ORDER BY last_updated_ts DESC) AS rn \n",
    "    FROM ctl_crypto.staging_schema.raw_silver\n",
    "  ) WHERE rn = 1\n",
    ") AS updated_rn\n",
    "\n",
    "ON target.id = updated_rn.id\n",
    "\n",
    "WHEN MATCHED AND updated_rn.rn = 1 THEN \n",
    "  UPDATE SET\n",
    "    target.roi_time = updated_rn.roi_time,\n",
    "    target.roi_percentage = updated_rn.roi_percentage,\n",
    "    target.roi_currency = updated_rn.roi_currency,\n",
    "    target.last_updated_ts = updated_rn.last_updated_ts\n",
    "\n",
    "WHEN NOT MATCHED AND updated_rn.rn = 1 THEN \n",
    "  INSERT (\n",
    "    id, \n",
    "    roi_time,\n",
    "    roi_percentage,\n",
    "    roi_currency,        -- ✅ Correct order\n",
    "    last_updated_ts\n",
    "  ) \n",
    "  VALUES (\n",
    "    updated_rn.id,\n",
    "    updated_rn.roi_time,\n",
    "    updated_rn.roi_percentage,  -- ✅ DOUBLE to roi_percentage\n",
    "    updated_rn.roi_currency,    -- ✅ STRING to roi_currency\n",
    "    updated_rn.last_updated_ts\n",
    "  );"
   ]
  },
  {
   "cell_type": "code",
   "execution_count": 0,
   "metadata": {
    "application/vnd.databricks.v1+cell": {
     "cellMetadata": {},
     "inputWidgets": {},
     "nuid": "13e5e02e-3d16-4ad1-b326-cb1c63a17d0f",
     "showTitle": false,
     "tableResultSettingsMap": {},
     "title": ""
    }
   },
   "outputs": [],
   "source": []
  },
  {
   "cell_type": "code",
   "execution_count": 0,
   "metadata": {
    "application/vnd.databricks.v1+cell": {
     "cellMetadata": {
      "byteLimit": 2048000,
      "implicitDf": true,
      "rowLimit": 10000
     },
     "inputWidgets": {},
     "nuid": "4903d327-abf9-4e1f-b3fd-12bbce85baa3",
     "showTitle": false,
     "tableResultSettingsMap": {},
     "title": ""
    }
   },
   "outputs": [],
   "source": [
    "%sql\n",
    "MERGE INTO ctl_crypto.gold_schema.dim_crypto AS target\n",
    "USING (\n",
    "  SELECT\n",
    "    id,\n",
    "    name,\n",
    "    symbol,\n",
    "    ath,\n",
    "    ath_change_percentage,\n",
    "    market_cap_billions,\n",
    "    volume_to_market_cap_ratio,\n",
    "    last_updated_ts,\n",
    "    ROW_NUMBER() OVER (PARTITION BY id ORDER BY last_updated_ts DESC) AS rn\n",
    "  FROM (SELECT *, ROW_NUMBER() OVER (PARTITION BY id ORDER BY last_updated_ts DESC) AS rn FROM ctl_crypto.staging_schema.raw_silver) WHERE rn = 1\n",
    ") AS updated_rn\n",
    "\n",
    "ON target.id = updated_rn.id\n",
    "\n",
    "WHEN MATCHED AND updated_rn.rn = 1 THEN \n",
    "  UPDATE SET\n",
    "    target.name = updated_rn.name,\n",
    "    target.symbol = updated_rn.symbol,\n",
    "    target.ath = updated_rn.ath,\n",
    "    target.ath_change_percentage = updated_rn.ath_change_percentage,\n",
    "    target.market_cap_billions = updated_rn.market_cap_billions,\n",
    "    target.volume_to_market_cap_ratio = updated_rn.volume_to_market_cap_ratio,\n",
    "    target.last_updated_ts = updated_rn.last_updated_ts\n",
    "    WHEN NOT MATCHED AND updated_rn.rn = 1 THEN \n",
    "  INSERT (\n",
    "    id, \n",
    "    name,\n",
    "    symbol,\n",
    "    ath,\n",
    "    ath_change_percentage,\n",
    "    market_cap_billions,\n",
    "    volume_to_market_cap_ratio,\n",
    "    last_updated_ts\n",
    "  ) \n",
    "  VALUES (\n",
    "    updated_rn.id,\n",
    "    updated_rn.name,\n",
    "    updated_rn.symbol,\n",
    "    updated_rn.ath,\n",
    "    updated_rn.ath_change_percentage,\n",
    "    updated_rn.market_cap_billions,\n",
    "    updated_rn.volume_to_market_cap_ratio,\n",
    "    updated_rn.last_updated_ts\n",
    "  );"
   ]
  },
  {
   "cell_type": "code",
   "execution_count": 0,
   "metadata": {
    "application/vnd.databricks.v1+cell": {
     "cellMetadata": {
      "byteLimit": 2048000,
      "implicitDf": true,
      "rowLimit": 10000
     },
     "inputWidgets": {},
     "nuid": "0ff4ad24-c4ff-4db0-827d-1bb1a9c5fbe1",
     "showTitle": false,
     "tableResultSettingsMap": {},
     "title": ""
    }
   },
   "outputs": [],
   "source": [
    "%sql\n",
    "MERGE INTO ctl_crypto.gold_schema.crypto_fact AS target\n",
    "USING (\n",
    "  SELECT \n",
    "    id,\n",
    "    market_cap_rank,\n",
    "    max_supply,\n",
    "    total_supply,\n",
    "    circulating_supply,\n",
    "    total_volume,\n",
    "    market_cap,\n",
    "    market_cap_change_24h,\n",
    "    market_cap_change_percentage_24h,\n",
    "    price_change_24h,\n",
    "    price_change_percentage_24h,\n",
    "    fully_diluted_valuation,\n",
    "    market_cap_billions,\n",
    "    total_volume_double,\n",
    "    high_24h,\n",
    "    low_24h,\n",
    "    current_price,\n",
    "    date_partition,  -- ✅ Alias to match table\n",
    "    last_updated_ts,\n",
    "    ROW_NUMBER() OVER (PARTITION BY id ORDER BY last_updated_ts DESC) AS rn\n",
    "  FROM (SELECT *, ROW_NUMBER() OVER (PARTITION BY id ORDER BY last_updated_ts DESC) AS rn FROM ctl_crypto.staging_schema.raw_silver) WHERE rn = 1\n",
    ") AS updated_rn\n",
    "\n",
    "ON target.id = updated_rn.id\n",
    "\n",
    "WHEN MATCHED AND updated_rn.rn = 1 THEN \n",
    "  UPDATE SET\n",
    "    target.market_cap_rank = updated_rn.market_cap_rank,\n",
    "    target.max_supply = updated_rn.max_supply,\n",
    "    target.total_supply = updated_rn.total_supply,\n",
    "    target.circulating_supply = updated_rn.circulating_supply,\n",
    "    target.total_volume = updated_rn.total_volume,\n",
    "    target.market_cap = updated_rn.market_cap,\n",
    "    target.market_cap_change_24h = updated_rn.market_cap_change_24h,\n",
    "    target.market_cap_change_percentage_24h = updated_rn.market_cap_change_percentage_24h,\n",
    "    target.price_change_24h = updated_rn.price_change_24h,\n",
    "    target.price_change_percentage_24h = updated_rn.price_change_percentage_24h,\n",
    "    target.fully_diluted_valuation = updated_rn.fully_diluted_valuation,\n",
    "    target.market_cap_billions = updated_rn.market_cap_billions,\n",
    "    target.total_volume_double = updated_rn.total_volume_double,\n",
    "    target.high_24h = updated_rn.high_24h,\n",
    "    target.low_24h = updated_rn.low_24h,\n",
    "    target.current_price = updated_rn.current_price,\n",
    "    target.date_partition = updated_rn.date_partition,  -- ✅ Fixed spelling\n",
    "    target.last_updated_ts = updated_rn.last_updated_ts\n",
    "\n",
    "WHEN NOT MATCHED AND updated_rn.rn = 1 THEN \n",
    "  INSERT (\n",
    "    id,\n",
    "    market_cap_rank,\n",
    "    max_supply,\n",
    "    total_supply,\n",
    "    circulating_supply,\n",
    "    total_volume,\n",
    "    market_cap,\n",
    "    market_cap_change_24h,\n",
    "    market_cap_change_percentage_24h,\n",
    "    price_change_24h,\n",
    "    price_change_percentage_24h,\n",
    "    fully_diluted_valuation,\n",
    "    market_cap_billions,\n",
    "    total_volume_double,\n",
    "    high_24h,\n",
    "    low_24h,\n",
    "    current_price,\n",
    "    date_partition,  -- ✅ Fixed spelling\n",
    "    last_updated_ts\n",
    "  ) \n",
    "  VALUES (\n",
    "    updated_rn.id,\n",
    "    updated_rn.market_cap_rank,\n",
    "    updated_rn.max_supply,\n",
    "    updated_rn.total_supply,\n",
    "    updated_rn.circulating_supply,\n",
    "    updated_rn.total_volume,\n",
    "    updated_rn.market_cap,\n",
    "    updated_rn.market_cap_change_24h,\n",
    "    updated_rn.market_cap_change_percentage_24h,\n",
    "    updated_rn.price_change_24h,\n",
    "    updated_rn.price_change_percentage_24h,\n",
    "    updated_rn.fully_diluted_valuation,\n",
    "    updated_rn.market_cap_billions,\n",
    "    updated_rn.total_volume_double,\n",
    "    updated_rn.high_24h,\n",
    "    updated_rn.low_24h,\n",
    "    updated_rn.current_price,\n",
    "    updated_rn.date_partition,  -- ✅ Fixed spelling\n",
    "    updated_rn.last_updated_ts\n",
    "  );"
   ]
  },
  {
   "cell_type": "code",
   "execution_count": 0,
   "metadata": {
    "application/vnd.databricks.v1+cell": {
     "cellMetadata": {
      "byteLimit": 2048000,
      "implicitDf": true,
      "rowLimit": 10000
     },
     "inputWidgets": {},
     "nuid": "5696e0aa-186d-44ac-aff5-f037304f1406",
     "showTitle": false,
     "tableResultSettingsMap": {},
     "title": ""
    }
   },
   "outputs": [],
   "source": [
    "Top_10 = spark.sql('''\n",
    "                   SELECT * FROM ctl_crypto.gold_schema.crypto_fact\n",
    "                    LIMIT 10\n",
    "                   ''')"
   ]
  },
  {
   "cell_type": "code",
   "execution_count": 0,
   "metadata": {
    "application/vnd.databricks.v1+cell": {
     "cellMetadata": {
      "byteLimit": 2048000,
      "rowLimit": 10000
     },
     "inputWidgets": {},
     "nuid": "d39fab6c-6443-407b-b4dd-49a184b24712",
     "showTitle": false,
     "tableResultSettingsMap": {},
     "title": ""
    }
   },
   "outputs": [
    {
     "output_type": "display_data",
     "data": {
      "text/plain": [
       "Databricks visualization. Run in Databricks to view."
      ]
     },
     "metadata": {
      "application/vnd.databricks.v1.subcommand+json": {
       "baseErrorDetails": null,
       "bindings": {},
       "collapsed": false,
       "command": "%python\n__backend_agg_display_orig = display\n__backend_agg_dfs = []\ndef __backend_agg_display_new(df):\n    __backend_agg_df_modules = [\"pandas.core.frame\", \"databricks.koalas.frame\", \"pyspark.sql.dataframe\", \"pyspark.pandas.frame\", \"pyspark.sql.connect.dataframe\"]\n    if (type(df).__module__ in __backend_agg_df_modules and type(df).__name__ == 'DataFrame') or isinstance(df, list):\n        __backend_agg_dfs.append(df)\n\ndisplay = __backend_agg_display_new\n\ndef __backend_agg_user_code_fn():\n    import base64\n    exec(base64.standard_b64decode(\"VG9wXzEwLmRpc3BsYXkoKQ==\").decode())\n\ntry:\n    # run user code\n    __backend_agg_user_code_fn()\n\n    #reset display function\n    display = __backend_agg_display_orig\n\n    if len(__backend_agg_dfs) > 0:\n        # create a temp view\n        if type(__backend_agg_dfs[0]).__module__ == \"databricks.koalas.frame\":\n            # koalas dataframe\n            __backend_agg_dfs[0].to_spark().createOrReplaceTempView(\"DatabricksView8432864\")\n        elif type(__backend_agg_dfs[0]).__module__ == \"pandas.core.frame\" or isinstance(__backend_agg_dfs[0], list):\n            # pandas dataframe\n            spark.createDataFrame(__backend_agg_dfs[0]).createOrReplaceTempView(\"DatabricksView8432864\")\n        else:\n            __backend_agg_dfs[0].createOrReplaceTempView(\"DatabricksView8432864\")\n        #run backend agg\n        display(spark.sql(\"\"\"WITH q AS (select * from DatabricksView8432864) SELECT `id`,SUM(`market_cap_rank`) `column_9c876b64454` FROM q GROUP BY `id`\"\"\"))\n    else:\n        displayHTML(\"dataframe no longer exists. If you're using dataframe.display(), use display(dataframe) instead.\")\n\n\nfinally:\n    spark.sql(\"drop view if exists DatabricksView8432864\")\n    display = __backend_agg_display_orig\n    del __backend_agg_display_new\n    del __backend_agg_display_orig\n    del __backend_agg_dfs\n    del __backend_agg_user_code_fn\n\n",
       "commandTitle": "Visualization 1",
       "commandType": "auto",
       "commandVersion": 0,
       "commentThread": [],
       "commentsVisible": false,
       "contentSha256Hex": null,
       "customPlotOptions": {
        "redashChart": [
         {
          "key": "type",
          "value": "CHART"
         },
         {
          "key": "options",
          "value": {
           "alignYAxesAtZero": true,
           "coefficient": 1,
           "columnConfigurationMap": {
            "x": {
             "column": "id",
             "id": "column_9c876b64452"
            },
            "y": [
             {
              "column": "market_cap_rank",
              "id": "column_9c876b64454",
              "transform": "SUM"
             }
            ]
           },
           "dateTimeFormat": "DD/MM/YYYY HH:mm",
           "direction": {
            "type": "counterclockwise"
           },
           "error_y": {
            "type": "data",
            "visible": true
           },
           "globalSeriesType": "line",
           "isAggregationOn": true,
           "legend": {
            "traceorder": "normal"
           },
           "missingValuesAsZero": true,
           "numberFormat": "0,0.[00000]",
           "percentFormat": "0[.]00%",
           "series": {
            "error_y": {
             "type": "data",
             "visible": true
            },
            "stacking": null
           },
           "seriesOptions": {
            "column_9c876b64454": {
             "type": "line",
             "yAxis": 0
            }
           },
           "showDataLabels": false,
           "sizemode": "diameter",
           "sortX": true,
           "sortY": true,
           "swappedAxes": false,
           "textFormat": "",
           "useAggregationsUi": true,
           "valuesOptions": {},
           "version": 2,
           "xAxis": {
            "labels": {
             "enabled": true
            },
            "type": "-"
           },
           "yAxis": [
            {
             "type": "-"
            },
            {
             "opposite": true,
             "type": "-"
            }
           ]
          }
         }
        ]
       },
       "datasetPreviewNameToCmdIdMap": {},
       "diffDeletes": [],
       "diffInserts": [],
       "displayType": "redashChart",
       "error": null,
       "errorDetails": null,
       "errorSummary": null,
       "errorTraceType": null,
       "finishTime": 0,
       "globalVars": {},
       "guid": "",
       "height": "auto",
       "hideCommandCode": false,
       "hideCommandResult": false,
       "iPythonMetadata": null,
       "inputWidgets": {},
       "isLockedInExamMode": false,
       "latestUser": "a user",
       "latestUserId": null,
       "listResultMetadata": null,
       "metadata": {},
       "nuid": "878c571a-bba8-45b9-a751-5a18b71ebbc9",
       "origId": 0,
       "parentHierarchy": [],
       "pivotAggregation": null,
       "pivotColumns": null,
       "position": 17.5,
       "resultDbfsErrorMessage": null,
       "resultDbfsStatus": "INLINED_IN_TREE",
       "results": null,
       "showCommandTitle": false,
       "startTime": 0,
       "state": "input",
       "streamStates": {},
       "subcommandOptions": {
        "queryPlan": {
         "groups": [
          {
           "column": "id",
           "type": "column"
          }
         ],
         "selects": [
          {
           "column": "id",
           "type": "column"
          },
          {
           "alias": "column_9c876b64454",
           "args": [
            {
             "column": "market_cap_rank",
             "type": "column"
            }
           ],
           "function": "SUM",
           "type": "function"
          }
         ]
        }
       },
       "submitTime": 0,
       "subtype": "tableResultSubCmd.visualization",
       "tableResultIndex": 0,
       "tableResultSettingsMap": {},
       "useConsistentColors": false,
       "version": "CommandV1",
       "width": "auto",
       "workflows": null,
       "xColumns": null,
       "yColumns": null
      }
     },
     "output_type": "display_data"
    }
   ],
   "source": [
    "Top_10.display()"
   ]
  },
  {
   "cell_type": "code",
   "execution_count": 0,
   "metadata": {
    "application/vnd.databricks.v1+cell": {
     "cellMetadata": {
      "byteLimit": 2048000,
      "rowLimit": 10000
     },
     "inputWidgets": {},
     "nuid": "f3cf0122-4c7e-4398-b350-cd64c8b92fda",
     "showTitle": false,
     "tableResultSettingsMap": {},
     "title": ""
    }
   },
   "outputs": [],
   "source": [
    "transformed_data = spark.sql(\"\"\"\n",
    "SELECT\n",
    "    dc.dim_crypto_id,\n",
    "    cf.id,\n",
    "    name,\n",
    "    symbol,\n",
    "    ath,\n",
    "    ath_change_percentage,\n",
    "    cf.market_cap_billions,\n",
    "    volume_to_market_cap_ratio,\n",
    "    (price_change_24h / cf.market_cap_billions) AS normalized_price_change_24h\n",
    "FROM\n",
    "    ctl_crypto.gold_schema.crypto_fact cf\n",
    "JOIN\n",
    "    ctl_crypto.gold_schema.dim_crypto dc\n",
    "ON cf.id = dc.id\n",
    "\"\"\")\n"
   ]
  },
  {
   "cell_type": "code",
   "execution_count": 0,
   "metadata": {
    "application/vnd.databricks.v1+cell": {
     "cellMetadata": {
      "byteLimit": 2048000,
      "rowLimit": 10000
     },
     "inputWidgets": {},
     "nuid": "c345f4a5-6e12-465d-b6b5-16fb147bbae7",
     "showTitle": false,
     "tableResultSettingsMap": {},
     "title": ""
    }
   },
   "outputs": [],
   "source": [
    "transformed_data.display()"
   ]
  },
  {
   "cell_type": "code",
   "execution_count": 0,
   "metadata": {
    "application/vnd.databricks.v1+cell": {
     "cellMetadata": {
      "byteLimit": 2048000,
      "implicitDf": true,
      "rowLimit": 10000
     },
     "inputWidgets": {},
     "nuid": "b42bdba1-e948-4a7c-8532-333bf26ca7d6",
     "showTitle": false,
     "tableResultSettingsMap": {},
     "title": ""
    }
   },
   "outputs": [
    {
     "output_type": "display_data",
     "data": {
      "text/plain": [
       "Databricks visualization. Run in Databricks to view."
      ]
     },
     "metadata": {
      "application/vnd.databricks.v1.subcommand+json": {
       "baseErrorDetails": null,
       "bindings": {},
       "collapsed": false,
       "command": "%sql WITH q AS (select id, ath_change_percentage, market_cap_billions\nFROM ctl_crypto.gold_schema.dim_crypto\nORDER BY market_cap_billions DESC\nLIMIT 10) SELECT `id`,SUM(`ath_change_percentage`) `column_9c876b64482` FROM q GROUP BY `id`",
       "commandTitle": "Visualization 1",
       "commandType": "auto",
       "commandVersion": 0,
       "commentThread": [],
       "commentsVisible": false,
       "contentSha256Hex": null,
       "customPlotOptions": {
        "redashChart": [
         {
          "key": "type",
          "value": "CHART"
         },
         {
          "key": "options",
          "value": {
           "alignYAxesAtZero": true,
           "coefficient": 1,
           "columnConfigurationMap": {
            "x": {
             "column": "id",
             "id": "column_9c876b64485"
            },
            "y": [
             {
              "column": "ath_change_percentage",
              "id": "column_9c876b64482",
              "transform": "SUM"
             }
            ]
           },
           "dateTimeFormat": "DD/MM/YYYY HH:mm",
           "direction": {
            "type": "counterclockwise"
           },
           "error_y": {
            "type": "data",
            "visible": true
           },
           "globalSeriesType": "combo",
           "isAggregationOn": true,
           "legend": {
            "traceorder": "normal"
           },
           "missingValuesAsZero": true,
           "numBins": 10,
           "numberFormat": "0,0.[00000]",
           "percentFormat": "0[.]00%",
           "series": {
            "error_y": {
             "type": "data",
             "visible": true
            },
            "stacking": null
           },
           "seriesOptions": {
            "column_9c876b64478": {
             "name": "market_cap_billions",
             "type": "line",
             "yAxis": 0
            },
            "column_9c876b64480": {
             "type": "line",
             "yAxis": 0
            },
            "column_9c876b64482": {
             "type": "line",
             "yAxis": 0
            }
           },
           "showDataLabels": false,
           "sizemode": "diameter",
           "sortX": true,
           "sortY": true,
           "swappedAxes": false,
           "textFormat": "",
           "useAggregationsUi": true,
           "valuesOptions": {},
           "version": 2,
           "xAxis": {
            "labels": {
             "enabled": true
            },
            "type": "-"
           },
           "yAxis": [
            {
             "type": "-"
            },
            {
             "opposite": true,
             "type": "-"
            }
           ]
          }
         }
        ]
       },
       "datasetPreviewNameToCmdIdMap": {},
       "diffDeletes": [],
       "diffInserts": [],
       "displayType": "redashChart",
       "error": null,
       "errorDetails": null,
       "errorSummary": null,
       "errorTraceType": null,
       "finishTime": 0,
       "globalVars": {},
       "guid": "",
       "height": "auto",
       "hideCommandCode": false,
       "hideCommandResult": false,
       "iPythonMetadata": null,
       "inputWidgets": {},
       "isLockedInExamMode": false,
       "latestUser": "a user",
       "latestUserId": null,
       "listResultMetadata": null,
       "metadata": {},
       "nuid": "2328d0da-b887-4f13-8491-eb9aa968d485",
       "origId": 0,
       "parentHierarchy": [],
       "pivotAggregation": null,
       "pivotColumns": null,
       "position": 35.5,
       "resultDbfsErrorMessage": null,
       "resultDbfsStatus": "INLINED_IN_TREE",
       "results": null,
       "showCommandTitle": false,
       "startTime": 0,
       "state": "input",
       "streamStates": {},
       "subcommandOptions": {
        "queryPlan": {
         "groups": [
          {
           "column": "id",
           "type": "column"
          }
         ],
         "selects": [
          {
           "column": "id",
           "type": "column"
          },
          {
           "alias": "column_9c876b64482",
           "args": [
            {
             "column": "ath_change_percentage",
             "type": "column"
            }
           ],
           "function": "SUM",
           "type": "function"
          }
         ]
        }
       },
       "submitTime": 0,
       "subtype": "tableResultSubCmd.visualization",
       "tableResultIndex": 0,
       "tableResultSettingsMap": {},
       "useConsistentColors": false,
       "version": "CommandV1",
       "width": "auto",
       "workflows": null,
       "xColumns": null,
       "yColumns": null
      }
     },
     "output_type": "display_data"
    }
   ],
   "source": [
    "%sql\n",
    "select id, ath_change_percentage, market_cap_billions\n",
    "FROM ctl_crypto.gold_schema.dim_crypto\n",
    "ORDER BY market_cap_billions DESC\n",
    "LIMIT 10;"
   ]
  },
  {
   "cell_type": "code",
   "execution_count": 0,
   "metadata": {
    "application/vnd.databricks.v1+cell": {
     "cellMetadata": {
      "byteLimit": 2048000,
      "implicitDf": true,
      "rowLimit": 10000
     },
     "inputWidgets": {},
     "nuid": "5e0cdee1-dabb-49fa-b119-467f48316334",
     "showTitle": false,
     "tableResultSettingsMap": {},
     "title": ""
    }
   },
   "outputs": [
    {
     "output_type": "display_data",
     "data": {
      "text/plain": [
       "Databricks visualization. Run in Databricks to view."
      ]
     },
     "metadata": {
      "application/vnd.databricks.v1.subcommand+json": {
       "baseErrorDetails": null,
       "bindings": {},
       "collapsed": false,
       "command": "%sql WITH q AS (select id, total_volume, date_partition \nFROM ctl_crypto.gold_schema.crypto_fact\nORDER BY market_cap DESC\nLIMIT 10) SELECT `date_partition`,`id`,SUM(`total_volume`) `column_9c876b64501` FROM q GROUP BY `date_partition`,`id`",
       "commandTitle": "Visualization 1",
       "commandType": "auto",
       "commandVersion": 0,
       "commentThread": [],
       "commentsVisible": false,
       "contentSha256Hex": null,
       "customPlotOptions": {
        "redashChart": [
         {
          "key": "type",
          "value": "CHART"
         },
         {
          "key": "options",
          "value": {
           "alignYAxesAtZero": true,
           "coefficient": 1,
           "columnConfigurationMap": {
            "series": {
             "column": "id",
             "id": "column_9c876b64500"
            },
            "x": {
             "column": "date_partition",
             "id": "column_9c876b64499"
            },
            "y": [
             {
              "column": "total_volume",
              "id": "column_9c876b64501",
              "transform": "SUM"
             }
            ]
           },
           "dateTimeFormat": "DD/MM/YYYY HH:mm",
           "direction": {
            "type": "counterclockwise"
           },
           "error_y": {
            "type": "data",
            "visible": true
           },
           "globalSeriesType": "column",
           "legend": {
            "traceorder": "normal"
           },
           "missingValuesAsZero": true,
           "numberFormat": "0,0.[00000]",
           "percentFormat": "0[.]00%",
           "series": {
            "error_y": {
             "type": "data",
             "visible": true
            },
            "stacking": null
           },
           "seriesOptions": {
            "column_9c876b64501": {
             "name": "total_volume",
             "type": "column",
             "yAxis": 0
            }
           },
           "showDataLabels": false,
           "sizemode": "diameter",
           "sortX": true,
           "sortY": true,
           "swappedAxes": false,
           "textFormat": "",
           "useAggregationsUi": true,
           "valuesOptions": {},
           "version": 2,
           "xAxis": {
            "labels": {
             "enabled": true
            },
            "type": "-"
           },
           "yAxis": [
            {
             "type": "-"
            },
            {
             "opposite": true,
             "type": "-"
            }
           ]
          }
         }
        ]
       },
       "datasetPreviewNameToCmdIdMap": {},
       "diffDeletes": [],
       "diffInserts": [],
       "displayType": "redashChart",
       "error": null,
       "errorDetails": null,
       "errorSummary": null,
       "errorTraceType": null,
       "finishTime": 0,
       "globalVars": {},
       "guid": "",
       "height": "auto",
       "hideCommandCode": false,
       "hideCommandResult": false,
       "iPythonMetadata": null,
       "inputWidgets": {},
       "isLockedInExamMode": false,
       "latestUser": "a user",
       "latestUserId": null,
       "listResultMetadata": null,
       "metadata": {},
       "nuid": "84fb7285-1669-4f25-9b42-3d52c3267555",
       "origId": 0,
       "parentHierarchy": [],
       "pivotAggregation": null,
       "pivotColumns": null,
       "position": 35.75,
       "resultDbfsErrorMessage": null,
       "resultDbfsStatus": "INLINED_IN_TREE",
       "results": null,
       "showCommandTitle": false,
       "startTime": 0,
       "state": "input",
       "streamStates": {},
       "subcommandOptions": {
        "queryPlan": {
         "groups": [
          {
           "column": "date_partition",
           "type": "column"
          },
          {
           "column": "id",
           "type": "column"
          }
         ],
         "selects": [
          {
           "column": "date_partition",
           "type": "column"
          },
          {
           "column": "id",
           "type": "column"
          },
          {
           "alias": "column_9c876b64501",
           "args": [
            {
             "column": "total_volume",
             "type": "column"
            }
           ],
           "function": "SUM",
           "type": "function"
          }
         ]
        }
       },
       "submitTime": 0,
       "subtype": "tableResultSubCmd.visualization",
       "tableResultIndex": 0,
       "tableResultSettingsMap": {},
       "useConsistentColors": false,
       "version": "CommandV1",
       "width": "auto",
       "workflows": null,
       "xColumns": null,
       "yColumns": null
      }
     },
     "output_type": "display_data"
    }
   ],
   "source": [
    "%sql\n",
    "select id, total_volume, date_partition \n",
    "FROM ctl_crypto.gold_schema.crypto_fact\n",
    "ORDER BY market_cap DESC\n",
    "LIMIT 10;"
   ]
  },
  {
   "cell_type": "code",
   "execution_count": 0,
   "metadata": {
    "application/vnd.databricks.v1+cell": {
     "cellMetadata": {
      "byteLimit": 2048000,
      "implicitDf": true,
      "rowLimit": 10000
     },
     "inputWidgets": {},
     "nuid": "e3021a26-a972-4588-a7aa-31c958c2614d",
     "showTitle": false,
     "tableResultSettingsMap": {},
     "title": ""
    }
   },
   "outputs": [
    {
     "output_type": "display_data",
     "data": {
      "text/plain": [
       "Databricks visualization. Run in Databricks to view."
      ]
     },
     "metadata": {
      "application/vnd.databricks.v1.subcommand+json": {
       "baseErrorDetails": null,
       "bindings": {},
       "collapsed": false,
       "command": "%sql WITH q AS (select id, market_cap_rank, max_supply, total_volume, market_cap\nFROM ctl_crypto.gold_schema.crypto_fact\nORDER BY market_cap DESC\nLIMIT 10) SELECT `id`,SUM(`total_volume`) `column_9c876b64472` FROM q GROUP BY `id`",
       "commandTitle": "Visualization 1",
       "commandType": "auto",
       "commandVersion": 0,
       "commentThread": [],
       "commentsVisible": false,
       "contentSha256Hex": null,
       "customPlotOptions": {
        "redashChart": [
         {
          "key": "type",
          "value": "CHART"
         },
         {
          "key": "options",
          "value": {
           "alignYAxesAtZero": true,
           "coefficient": 1,
           "columnConfigurationMap": {
            "x": {
             "column": "id",
             "id": "column_9c876b64470"
            },
            "y": [
             {
              "column": "total_volume",
              "id": "column_9c876b64472",
              "transform": "SUM"
             }
            ]
           },
           "dateTimeFormat": "DD/MM/YYYY HH:mm",
           "direction": {
            "type": "counterclockwise"
           },
           "error_y": {
            "type": "data",
            "visible": true
           },
           "globalSeriesType": "column",
           "isAggregationOn": true,
           "legend": {
            "traceorder": "normal"
           },
           "missingValuesAsZero": true,
           "numberFormat": "0,0.[00000]",
           "percentFormat": "0[.]00%",
           "series": {
            "error_y": {
             "type": "data",
             "visible": true
            },
            "stacking": null
           },
           "seriesOptions": {
            "column_9c876b64472": {
             "type": "column",
             "yAxis": 0
            }
           },
           "showDataLabels": false,
           "sizemode": "diameter",
           "sortX": true,
           "sortY": true,
           "swappedAxes": false,
           "textFormat": "",
           "useAggregationsUi": true,
           "valuesOptions": {},
           "version": 2,
           "xAxis": {
            "labels": {
             "enabled": true
            },
            "type": "-"
           },
           "yAxis": [
            {
             "type": "-"
            },
            {
             "opposite": true,
             "type": "-"
            }
           ]
          }
         }
        ]
       },
       "datasetPreviewNameToCmdIdMap": {},
       "diffDeletes": [],
       "diffInserts": [],
       "displayType": "redashChart",
       "error": null,
       "errorDetails": null,
       "errorSummary": null,
       "errorTraceType": null,
       "finishTime": 0,
       "globalVars": {},
       "guid": "",
       "height": "auto",
       "hideCommandCode": false,
       "hideCommandResult": false,
       "iPythonMetadata": null,
       "inputWidgets": {},
       "isLockedInExamMode": false,
       "latestUser": "a user",
       "latestUserId": null,
       "listResultMetadata": null,
       "metadata": {},
       "nuid": "60daa167-6dbf-45bd-8c77-a60920c670dd",
       "origId": 0,
       "parentHierarchy": [],
       "pivotAggregation": null,
       "pivotColumns": null,
       "position": 36.0,
       "resultDbfsErrorMessage": null,
       "resultDbfsStatus": "INLINED_IN_TREE",
       "results": null,
       "showCommandTitle": false,
       "startTime": 0,
       "state": "input",
       "streamStates": {},
       "subcommandOptions": {
        "queryPlan": {
         "groups": [
          {
           "column": "id",
           "type": "column"
          }
         ],
         "selects": [
          {
           "column": "id",
           "type": "column"
          },
          {
           "alias": "column_9c876b64472",
           "args": [
            {
             "column": "total_volume",
             "type": "column"
            }
           ],
           "function": "SUM",
           "type": "function"
          }
         ]
        }
       },
       "submitTime": 0,
       "subtype": "tableResultSubCmd.visualization",
       "tableResultIndex": 0,
       "tableResultSettingsMap": {},
       "useConsistentColors": false,
       "version": "CommandV1",
       "width": "auto",
       "workflows": null,
       "xColumns": null,
       "yColumns": null
      }
     },
     "output_type": "display_data"
    }
   ],
   "source": [
    "%sql\n",
    "select id, market_cap_rank, max_supply, total_volume, market_cap\n",
    "FROM ctl_crypto.gold_schema.crypto_fact\n",
    "ORDER BY market_cap DESC\n",
    "LIMIT 10;\n"
   ]
  },
  {
   "cell_type": "code",
   "execution_count": 0,
   "metadata": {
    "application/vnd.databricks.v1+cell": {
     "cellMetadata": {},
     "inputWidgets": {},
     "nuid": "23925224-ff3d-4d12-af2a-9393f13a449d",
     "showTitle": false,
     "tableResultSettingsMap": {},
     "title": ""
    }
   },
   "outputs": [],
   "source": []
  }
 ],
 "metadata": {
  "application/vnd.databricks.v1+notebook": {
   "computePreferences": null,
   "dashboards": [],
   "environmentMetadata": {
    "base_environment": "",
    "environment_version": "2"
   },
   "inputWidgetPreferences": null,
   "language": "python",
   "notebookMetadata": {
    "mostRecentlyExecutedCommandWithImplicitDF": {
     "commandId": 7895664996894512,
     "dataframes": [
      "_sqldf"
     ]
    },
    "pythonIndentUnit": 4
   },
   "notebookName": "crypto_gold_layer",
   "widgets": {}
  },
  "language_info": {
   "name": "python"
  }
 },
 "nbformat": 4,
 "nbformat_minor": 0
}
